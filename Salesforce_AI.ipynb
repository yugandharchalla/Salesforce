{
 "cells": [
  {
   "cell_type": "code",
   "execution_count": 98,
   "id": "49adc730",
   "metadata": {},
   "outputs": [],
   "source": [
    "import pandas as pd\n",
    "import matplotlib as plt\n",
    "import seaborn as sns\n",
    "from sklearn.model_selection import train_test_split\n",
    "from sklearn.model_selection import cross_val_score\n",
    "from sklearn.model_selection import cross_val_predict\n",
    "import matplotlib.pyplot as plt\n",
    "import numpy as np\n",
    "import pickle"
   ]
  },
  {
   "cell_type": "code",
   "execution_count": 99,
   "id": "10667ffc",
   "metadata": {},
   "outputs": [],
   "source": [
    "from sklearn.linear_model import LogisticRegression\n",
    "from sklearn.tree import DecisionTreeClassifier\n",
    "from sklearn.ensemble import RandomForestClassifier\n",
    "from sklearn.svm import SVC\n",
    "from sklearn.neighbors import KNeighborsClassifier\n",
    "from sklearn.metrics import accuracy_score, classification_report\n",
    "from sklearn.metrics import accuracy_score,precision_score,confusion_matrix, roc_auc_score"
   ]
  },
  {
   "cell_type": "code",
   "execution_count": 100,
   "id": "a5567d81",
   "metadata": {},
   "outputs": [],
   "source": [
    "#Importing the datasets\n",
    "account_attributes = pd.read_excel(r\"D:/salesforce/account_attributes.xlsx\")\n",
    "account_usage=pd.read_excel(r\"D:/salesforce/account_usage.xlsx\")"
   ]
  },
  {
   "cell_type": "code",
   "execution_count": 101,
   "id": "9c3335ff",
   "metadata": {},
   "outputs": [
    {
     "name": "stdout",
     "output_type": "stream",
     "text": [
      "<class 'pandas.core.frame.DataFrame'>\n",
      "RangeIndex: 8000 entries, 0 to 7999\n",
      "Data columns (total 4 columns):\n",
      " #   Column                      Non-Null Count  Dtype \n",
      "---  ------                      --------------  ----- \n",
      " 0   Acct id                     8000 non-null   object\n",
      " 1   Acct type                   8000 non-null   object\n",
      " 2   Activate chat bot           8000 non-null   object\n",
      " 3   Converted to paid customer  8000 non-null   int64 \n",
      "dtypes: int64(1), object(3)\n",
      "memory usage: 250.1+ KB\n"
     ]
    }
   ],
   "source": [
    "#information about the attributes dataset\n",
    "account_attributes.info()"
   ]
  },
  {
   "cell_type": "code",
   "execution_count": 102,
   "id": "91d19873",
   "metadata": {},
   "outputs": [
    {
     "name": "stdout",
     "output_type": "stream",
     "text": [
      "<class 'pandas.core.frame.DataFrame'>\n",
      "RangeIndex: 80367 entries, 0 to 80366\n",
      "Data columns (total 3 columns):\n",
      " #   Column                 Non-Null Count  Dtype \n",
      "---  ------                 --------------  ----- \n",
      " 0   Acct id                80367 non-null  object\n",
      " 1   Date time              80367 non-null  object\n",
      " 2   Number of link clicks  80367 non-null  int64 \n",
      "dtypes: int64(1), object(2)\n",
      "memory usage: 1.8+ MB\n"
     ]
    }
   ],
   "source": [
    "#information about the usage dataset\n",
    "account_usage.info()"
   ]
  },
  {
   "cell_type": "code",
   "execution_count": 103,
   "id": "d22a994b",
   "metadata": {},
   "outputs": [
    {
     "name": "stdout",
     "output_type": "stream",
     "text": [
      "SMB    4865\n",
      "ENT    3135\n",
      "Name: Acct type, dtype: int64\n",
      "SMB    60.8125\n",
      "ENT    39.1875\n",
      "Name: Acct type, dtype: float64\n"
     ]
    }
   ],
   "source": [
    "#Value counts for the account type and percentage of total customers\n",
    "print(account_attributes['Acct type'].value_counts())\n",
    "print(account_attributes['Acct type'].value_counts(normalize=True) * 100)"
   ]
  },
  {
   "cell_type": "code",
   "execution_count": 104,
   "id": "76f3de4f",
   "metadata": {},
   "outputs": [],
   "source": [
    "#Encoding the Categorical features to Numerical\n",
    "account_attributes['Acct_type_encoded'] = account_attributes['Acct type'].apply(lambda x: 0 if x == 'SMB' else 1)\n",
    "account_attributes['Activate_chat_bot_encoded'] = account_attributes['Activate chat bot'].apply(lambda x: 0 if x == 'N' else 1)"
   ]
  },
  {
   "cell_type": "code",
   "execution_count": 105,
   "id": "8e2dff3f",
   "metadata": {},
   "outputs": [
    {
     "name": "stdout",
     "output_type": "stream",
     "text": [
      "Y    4384\n",
      "N    3616\n",
      "Name: Activate chat bot, dtype: int64\n",
      "Y    54.8\n",
      "N    45.2\n",
      "Name: Activate chat bot, dtype: float64\n"
     ]
    }
   ],
   "source": [
    "#Value counts for customers activated chat bot\n",
    "print(account_attributes['Activate chat bot'].value_counts())\n",
    "print(account_attributes['Activate chat bot'].value_counts(normalize=True) * 100)"
   ]
  },
  {
   "cell_type": "code",
   "execution_count": 106,
   "id": "584b51c8",
   "metadata": {},
   "outputs": [
    {
     "name": "stdout",
     "output_type": "stream",
     "text": [
      "0    5470\n",
      "1    2530\n",
      "Name: Converted to paid customer, dtype: int64\n",
      "0    68.375\n",
      "1    31.625\n",
      "Name: Converted to paid customer, dtype: float64\n"
     ]
    }
   ],
   "source": [
    "#value counts for the customers converted to paid customer\n",
    "print(account_attributes['Converted to paid customer'].value_counts())\n",
    "print(account_attributes['Converted to paid customer'].value_counts(normalize=True) * 100)"
   ]
  },
  {
   "cell_type": "code",
   "execution_count": 107,
   "id": "601896c0",
   "metadata": {},
   "outputs": [],
   "source": [
    "#converting the Data time type from dtype to data-time type\n",
    "account_usage['Date time']=pd.to_datetime(account_usage['Date time'])"
   ]
  },
  {
   "cell_type": "code",
   "execution_count": 108,
   "id": "c1185a99",
   "metadata": {},
   "outputs": [
    {
     "data": {
      "image/png": "[encoded data removed]",
      "text/plain": [
       "<Figure size 432x288 with 1 Axes>"
      ]
     },
     "metadata": {
      "needs_background": "light"
     },
     "output_type": "display_data"
    }
   ],
   "source": [
    "#weekly trend in number of clicks\n",
    "account_usage['Number of link clicks'].plot(title='Weekly Number of Clicks Trend')\n",
    "plt.show()"
   ]
  },
  {
   "cell_type": "code",
   "execution_count": 109,
   "id": "590dcb8e",
   "metadata": {},
   "outputs": [
    {
     "data": {
      "text/html": [
       "<div>\n",
       "<style scoped>\n",
       "    .dataframe tbody tr th:only-of-type {\n",
       "        vertical-align: middle;\n",
       "    }\n",
       "\n",
       "    .dataframe tbody tr th {\n",
       "        vertical-align: top;\n",
       "    }\n",
       "\n",
       "    .dataframe thead th {\n",
       "        text-align: right;\n",
       "    }\n",
       "</style>\n",
       "<table border=\"1\" class=\"dataframe\">\n",
       "  <thead>\n",
       "    <tr style=\"text-align: right;\">\n",
       "      <th></th>\n",
       "      <th>Acct id</th>\n",
       "      <th>Acct type</th>\n",
       "      <th>Activate chat bot</th>\n",
       "      <th>Converted to paid customer</th>\n",
       "      <th>Acct_type_encoded</th>\n",
       "      <th>Activate_chat_bot_encoded</th>\n",
       "      <th>Date time</th>\n",
       "      <th>Number of link clicks</th>\n",
       "    </tr>\n",
       "  </thead>\n",
       "  <tbody>\n",
       "    <tr>\n",
       "      <th>0</th>\n",
       "      <td>SA25212</td>\n",
       "      <td>SMB</td>\n",
       "      <td>Y</td>\n",
       "      <td>0</td>\n",
       "      <td>0</td>\n",
       "      <td>1</td>\n",
       "      <td>2019-10-06</td>\n",
       "      <td>2311</td>\n",
       "    </tr>\n",
       "    <tr>\n",
       "      <th>1</th>\n",
       "      <td>SA25212</td>\n",
       "      <td>SMB</td>\n",
       "      <td>Y</td>\n",
       "      <td>0</td>\n",
       "      <td>0</td>\n",
       "      <td>1</td>\n",
       "      <td>2019-10-13</td>\n",
       "      <td>1020</td>\n",
       "    </tr>\n",
       "    <tr>\n",
       "      <th>2</th>\n",
       "      <td>SA25212</td>\n",
       "      <td>SMB</td>\n",
       "      <td>Y</td>\n",
       "      <td>0</td>\n",
       "      <td>0</td>\n",
       "      <td>1</td>\n",
       "      <td>2019-10-20</td>\n",
       "      <td>1664</td>\n",
       "    </tr>\n",
       "    <tr>\n",
       "      <th>3</th>\n",
       "      <td>SA25212</td>\n",
       "      <td>SMB</td>\n",
       "      <td>Y</td>\n",
       "      <td>0</td>\n",
       "      <td>0</td>\n",
       "      <td>1</td>\n",
       "      <td>2019-10-27</td>\n",
       "      <td>2523</td>\n",
       "    </tr>\n",
       "    <tr>\n",
       "      <th>4</th>\n",
       "      <td>SA25212</td>\n",
       "      <td>SMB</td>\n",
       "      <td>Y</td>\n",
       "      <td>0</td>\n",
       "      <td>0</td>\n",
       "      <td>1</td>\n",
       "      <td>2019-11-03</td>\n",
       "      <td>1157</td>\n",
       "    </tr>\n",
       "    <tr>\n",
       "      <th>...</th>\n",
       "      <td>...</td>\n",
       "      <td>...</td>\n",
       "      <td>...</td>\n",
       "      <td>...</td>\n",
       "      <td>...</td>\n",
       "      <td>...</td>\n",
       "      <td>...</td>\n",
       "      <td>...</td>\n",
       "    </tr>\n",
       "    <tr>\n",
       "      <th>80362</th>\n",
       "      <td>SA65176</td>\n",
       "      <td>SMB</td>\n",
       "      <td>N</td>\n",
       "      <td>0</td>\n",
       "      <td>0</td>\n",
       "      <td>0</td>\n",
       "      <td>2020-02-16</td>\n",
       "      <td>218</td>\n",
       "    </tr>\n",
       "    <tr>\n",
       "      <th>80363</th>\n",
       "      <td>SA65176</td>\n",
       "      <td>SMB</td>\n",
       "      <td>N</td>\n",
       "      <td>0</td>\n",
       "      <td>0</td>\n",
       "      <td>0</td>\n",
       "      <td>2020-02-23</td>\n",
       "      <td>326</td>\n",
       "    </tr>\n",
       "    <tr>\n",
       "      <th>80364</th>\n",
       "      <td>SA65176</td>\n",
       "      <td>SMB</td>\n",
       "      <td>N</td>\n",
       "      <td>0</td>\n",
       "      <td>0</td>\n",
       "      <td>0</td>\n",
       "      <td>2020-03-01</td>\n",
       "      <td>219</td>\n",
       "    </tr>\n",
       "    <tr>\n",
       "      <th>80365</th>\n",
       "      <td>SA65176</td>\n",
       "      <td>SMB</td>\n",
       "      <td>N</td>\n",
       "      <td>0</td>\n",
       "      <td>0</td>\n",
       "      <td>0</td>\n",
       "      <td>2020-03-08</td>\n",
       "      <td>292</td>\n",
       "    </tr>\n",
       "    <tr>\n",
       "      <th>80366</th>\n",
       "      <td>SA65176</td>\n",
       "      <td>SMB</td>\n",
       "      <td>N</td>\n",
       "      <td>0</td>\n",
       "      <td>0</td>\n",
       "      <td>0</td>\n",
       "      <td>2020-03-15</td>\n",
       "      <td>180</td>\n",
       "    </tr>\n",
       "  </tbody>\n",
       "</table>\n",
       "<p>80367 rows × 8 columns</p>\n",
       "</div>"
      ],
      "text/plain": [
       "       Acct id Acct type Activate chat bot  Converted to paid customer  \\\n",
       "0      SA25212       SMB                 Y                           0   \n",
       "1      SA25212       SMB                 Y                           0   \n",
       "2      SA25212       SMB                 Y                           0   \n",
       "3      SA25212       SMB                 Y                           0   \n",
       "4      SA25212       SMB                 Y                           0   \n",
       "...        ...       ...               ...                         ...   \n",
       "80362  SA65176       SMB                 N                           0   \n",
       "80363  SA65176       SMB                 N                           0   \n",
       "80364  SA65176       SMB                 N                           0   \n",
       "80365  SA65176       SMB                 N                           0   \n",
       "80366  SA65176       SMB                 N                           0   \n",
       "\n",
       "       Acct_type_encoded  Activate_chat_bot_encoded  Date time  \\\n",
       "0                      0                          1 2019-10-06   \n",
       "1                      0                          1 2019-10-13   \n",
       "2                      0                          1 2019-10-20   \n",
       "3                      0                          1 2019-10-27   \n",
       "4                      0                          1 2019-11-03   \n",
       "...                  ...                        ...        ...   \n",
       "80362                  0                          0 2020-02-16   \n",
       "80363                  0                          0 2020-02-23   \n",
       "80364                  0                          0 2020-03-01   \n",
       "80365                  0                          0 2020-03-08   \n",
       "80366                  0                          0 2020-03-15   \n",
       "\n",
       "       Number of link clicks  \n",
       "0                       2311  \n",
       "1                       1020  \n",
       "2                       1664  \n",
       "3                       2523  \n",
       "4                       1157  \n",
       "...                      ...  \n",
       "80362                    218  \n",
       "80363                    326  \n",
       "80364                    219  \n",
       "80365                    292  \n",
       "80366                    180  \n",
       "\n",
       "[80367 rows x 8 columns]"
      ]
     },
     "execution_count": 109,
     "metadata": {},
     "output_type": "execute_result"
    }
   ],
   "source": [
    "#merging the datasets based on account type for further implementation\n",
    "m_s=pd.merge(account_attributes,account_usage,on='Acct id',how='inner')\n",
    "m_s"
   ]
  },
  {
   "cell_type": "code",
   "execution_count": 110,
   "id": "7fd71c97",
   "metadata": {},
   "outputs": [
    {
     "name": "stdout",
     "output_type": "stream",
     "text": [
      "Month\n",
      "2021-01    5790594\n",
      "2020-11    5518255\n",
      "2020-12    4702930\n",
      "2020-08    4635599\n",
      "2020-10    4245885\n",
      "2020-09    4078839\n",
      "2020-05    3772075\n",
      "2020-07    3361544\n",
      "2020-03    3361427\n",
      "2020-06    3042569\n",
      "2020-04    2839884\n",
      "2021-02    2653310\n",
      "2019-12    2627728\n",
      "2020-02    2570315\n",
      "2020-01    2388788\n",
      "2019-09    2176751\n",
      "2019-11    1867097\n",
      "2019-10    1840658\n",
      "2019-08    1489417\n",
      "2019-06    1202285\n",
      "2019-07    1184752\n",
      "2021-03    1038147\n",
      "2019-05     746032\n",
      "2019-04     564735\n",
      "2019-03     464149\n",
      "2019-02     143209\n",
      "2021-04      47206\n",
      "2019-01      36970\n",
      "Freq: M, Name: Number of link clicks, dtype: int64\n"
     ]
    }
   ],
   "source": [
    "#to check the monthly sum of link clicks \n",
    "account_usage.set_index('Date time', inplace=True)\n",
    "\n",
    "account_usage['Month'] = account_usage.index.to_period('M')\n",
    "\n",
    "# Calculating the total number of clicks per month\n",
    "monthly_total_clicks = account_usage.groupby('Month')['Number of link clicks'].sum()\n",
    "\n",
    "# Sorting the result in descending order\n",
    "monthly_total_clicks = monthly_total_clicks.sort_values(ascending=False)\n",
    "\n",
    "# the result\n",
    "print(monthly_total_clicks)\n"
   ]
  },
  {
   "cell_type": "code",
   "execution_count": 111,
   "id": "c8803367",
   "metadata": {},
   "outputs": [],
   "source": [
    "#adding the link clicks using by grouping the account id \n",
    "account_numclicks_sum=account_usage.groupby(['Acct id']).sum()\n",
    "account_numclicks_sum.reset_index(inplace=True)"
   ]
  },
  {
   "cell_type": "code",
   "execution_count": 112,
   "id": "4ab6959e",
   "metadata": {},
   "outputs": [],
   "source": [
    "#merging the datasets\n",
    "merged_accounts=pd.merge(account_attributes,account_numclicks_sum,on='Acct id',how='inner')"
   ]
  },
  {
   "cell_type": "code",
   "execution_count": 113,
   "id": "f85acab6",
   "metadata": {},
   "outputs": [
    {
     "data": {
      "image/png": "[encoded data removed]",
      "text/plain": [
       "<Figure size 432x288 with 1 Axes>"
      ]
     },
     "metadata": {
      "needs_background": "light"
     },
     "output_type": "display_data"
    }
   ],
   "source": [
    "#to check the range of link clicks using boxplot\n",
    "plt.boxplot(merged_accounts['Number of link clicks'])\n",
    "# plt.title('Boxplot for feature1')\n",
    "plt.show()"
   ]
  },
  {
   "cell_type": "code",
   "execution_count": 114,
   "id": "62f4ece2",
   "metadata": {},
   "outputs": [],
   "source": [
    "#applying log transformation to decrease the variance\n",
    "merged_accounts['Number_of_link_clicks_log'] = np.log1p(merged_accounts['Number of link clicks'])"
   ]
  },
  {
   "cell_type": "code",
   "execution_count": 115,
   "id": "30398227",
   "metadata": {},
   "outputs": [
    {
     "data": {
      "text/plain": [
       "Acct type\n",
       "ENT    25912674\n",
       "SMB    42478476\n",
       "Name: Number of link clicks, dtype: int64"
      ]
     },
     "execution_count": 115,
     "metadata": {},
     "output_type": "execute_result"
    }
   ],
   "source": [
    "#Number of link clicks based on account type\n",
    "merged_accounts.groupby('Acct type')['Number of link clicks'].sum()"
   ]
  },
  {
   "cell_type": "code",
   "execution_count": 116,
   "id": "4ccc982c",
   "metadata": {},
   "outputs": [
    {
     "data": {
      "image/png": "[encoded data removed]",
      "text/plain": [
       "<Figure size 720x432 with 1 Axes>"
      ]
     },
     "metadata": {
      "needs_background": "light"
     },
     "output_type": "display_data"
    }
   ],
   "source": [
    "#distribution of account types\n",
    "plt.figure(figsize=(10, 6))\n",
    "ax = sns.countplot(x=\"Acct type\", data=merged_accounts, hue=\"Converted to paid customer\")\n",
    "\n",
    "# Add annotations with counts on top of the bars\n",
    "for p in ax.patches:\n",
    "    ax.annotate(f'{p.get_height()}', (p.get_x() + p.get_width() / 2., p.get_height()), ha='center', va='center', xytext=(0, 10), textcoords='offset points')\n",
    "\n",
    "plt.title(\"Distribution of Account Types\")\n",
    "plt.show()\n"
   ]
  },
  {
   "cell_type": "code",
   "execution_count": 117,
   "id": "2ebe813c",
   "metadata": {},
   "outputs": [
    {
     "name": "stdout",
     "output_type": "stream",
     "text": [
      "Overall Conversion Rate: 31.62%\n",
      "Conversion Rate by Account Type:\n",
      "Acct type\n",
      "ENT    51.291866\n",
      "SMB    18.951696\n",
      "Name: Converted to paid customer, dtype: float64\n"
     ]
    }
   ],
   "source": [
    "#to calculate the conversion rate of converted to paid customers\n",
    "overall_conversion_rate = merged_accounts['Converted to paid customer'].mean() * 100\n",
    "\n",
    "# overall conversion rate\n",
    "print(f\"Overall Conversion Rate: {overall_conversion_rate:.2f}%\")\n",
    "\n",
    "conversion_rate_by_type = merged_accounts.groupby('Acct type')['Converted to paid customer'].mean()\n",
    "\n",
    "# conversion rates\n",
    "print(\"Conversion Rate by Account Type:\")\n",
    "print(conversion_rate_by_type * 100)"
   ]
  },
  {
   "cell_type": "code",
   "execution_count": 118,
   "id": "1957c45b",
   "metadata": {},
   "outputs": [
    {
     "name": "stdout",
     "output_type": "stream",
     "text": [
      "           Conversion Rate  Number of Customers with Chat Bot\n",
      "Acct type                                                    \n",
      "ENT              51.291866                          62.456140\n",
      "SMB              18.951696                          49.866393\n"
     ]
    }
   ],
   "source": [
    "grouped_data = merged_accounts.groupby('Acct type').agg({\n",
    "    'Converted to paid customer': 'mean' ,\n",
    "    'Activate_chat_bot_encoded': 'mean'\n",
    "})\n",
    "\n",
    "# Rename columns for clarity\n",
    "grouped_data.rename(columns={\n",
    "    'Converted to paid customer': 'Conversion Rate',\n",
    "    'Activate_chat_bot_encoded': 'Number of Customers with Chat Bot'\n",
    "}, inplace=True)\n",
    "\n",
    "# the result\n",
    "print(grouped_data * 100)"
   ]
  },
  {
   "cell_type": "code",
   "execution_count": 119,
   "id": "96383071",
   "metadata": {},
   "outputs": [
    {
     "data": {
      "text/plain": [
       "Text(0, 0.5, 'Frequency')"
      ]
     },
     "execution_count": 119,
     "metadata": {},
     "output_type": "execute_result"
    },
    {
     "data": {
      "image/png": "[encoded data removed]",
      "text/plain": [
       "<Figure size 864x432 with 1 Axes>"
      ]
     },
     "metadata": {
      "needs_background": "light"
     },
     "output_type": "display_data"
    }
   ],
   "source": [
    "plt.figure(figsize=(12, 6))\n",
    "plt.hist(merged_accounts[\"Number of link clicks\"], bins=20, edgecolor='black')\n",
    "plt.title(\"Distribution of Number of Link Clicks\")\n",
    "plt.xlabel(\"Number of Link Clicks\")\n",
    "plt.ylabel(\"Frequency\")\n"
   ]
  },
  {
   "cell_type": "code",
   "execution_count": 120,
   "id": "847f3e00",
   "metadata": {},
   "outputs": [
    {
     "data": {
      "image/png": "[encoded data removed]",
      "text/plain": [
       "<Figure size 720x432 with 1 Axes>"
      ]
     },
     "metadata": {
      "needs_background": "light"
     },
     "output_type": "display_data"
    }
   ],
   "source": [
    "plt.figure(figsize=(10, 6))\n",
    "ax = sns.barplot(x=\"Acct type\", y=\"Number of link clicks\", data=merged_accounts, hue=\"Converted to paid customer\", ci=None)\n",
    "\n",
    "# Add annotations with counts on top of the bars\n",
    "for p in ax.patches:\n",
    "    height = p.get_height()\n",
    "    ax.annotate(f'{height:.0f}', (p.get_x() + p.get_width() / 2., height), ha='center', va='bottom')\n",
    "\n",
    "plt.title(\"Average Number of Link Clicks by Account Type\")\n",
    "plt.show()"
   ]
  },
  {
   "cell_type": "code",
   "execution_count": 121,
   "id": "b93b0146",
   "metadata": {},
   "outputs": [
    {
     "data": {
      "image/png": "[encoded data removed]",
      "text/plain": [
       "<Figure size 720x576 with 2 Axes>"
      ]
     },
     "metadata": {
      "needs_background": "light"
     },
     "output_type": "display_data"
    }
   ],
   "source": [
    "# Calculating the correlation matrix\n",
    "corr_matrix = merged_accounts.corr()\n",
    "\n",
    "# Creating a heatmap\n",
    "plt.figure(figsize=(10, 8))\n",
    "sns.heatmap(corr_matrix, annot=True, cmap='coolwarm', fmt=\".2f\", linewidths=0.5)\n",
    "plt.title('Correlation Heatmap')\n",
    "plt.show()\n"
   ]
  },
  {
   "cell_type": "code",
   "execution_count": 122,
   "id": "8a053076",
   "metadata": {},
   "outputs": [],
   "source": [
    "#x-train\n",
    "x_1=merged_accounts[['Acct_type_encoded','Activate_chat_bot_encoded','Number of link clicks']]"
   ]
  },
  {
   "cell_type": "code",
   "execution_count": 123,
   "id": "5a2a728f",
   "metadata": {},
   "outputs": [],
   "source": [
    "#y-train\n",
    "y_1=merged_accounts[['Converted to paid customer']]\n",
    "# changing a 2-dimensional array or a multi-dimensional array into a contiguous flattened array\n",
    "y_1 = y_1.values.ravel()\n"
   ]
  },
  {
   "cell_type": "code",
   "execution_count": 124,
   "id": "af50dc0d",
   "metadata": {},
   "outputs": [],
   "source": [
    "# Initializing and fitting models\n",
    "models = {\n",
    "    'Logistic Regression': LogisticRegression(),\n",
    "    'Decision Tree': DecisionTreeClassifier(),\n",
    "    'Random Forest': RandomForestClassifier(),\n",
    "    'SVM': SVC(),\n",
    "    'k-NN': KNeighborsClassifier()\n",
    "}"
   ]
  },
  {
   "cell_type": "code",
   "execution_count": 125,
   "id": "8889243f",
   "metadata": {},
   "outputs": [
    {
     "name": "stdout",
     "output_type": "stream",
     "text": [
      "\n",
      "LogisticRegression Metrics:\n",
      "Confusion Matrix:\n",
      "[[5157  313]\n",
      " [1928  602]]\n",
      "Accuracy: 0.7199\n",
      "Precision: 0.6579\n",
      "AUC-ROC: 0.5904\n",
      "\n",
      "DecisionTreeClassifier Metrics:\n",
      "Confusion Matrix:\n",
      "[[4236 1234]\n",
      " [1374 1156]]\n",
      "Accuracy: 0.6740\n",
      "Precision: 0.4837\n",
      "AUC-ROC: 0.6157\n",
      "\n",
      "RandomForestClassifier Metrics:\n",
      "Confusion Matrix:\n",
      "[[4225 1245]\n",
      " [1350 1180]]\n",
      "Accuracy: 0.6756\n",
      "Precision: 0.4866\n",
      "AUC-ROC: 0.6194\n",
      "\n",
      "SVC Metrics:\n",
      "Confusion Matrix:\n",
      "[[5468    2]\n",
      " [2529    1]]\n",
      "Accuracy: 0.6836\n",
      "Precision: 0.3333\n",
      "AUC-ROC: 0.5000\n",
      "\n",
      "KNeighborsClassifier Metrics:\n",
      "Confusion Matrix:\n",
      "[[4425 1045]\n",
      " [1921  609]]\n",
      "Accuracy: 0.6292\n",
      "Precision: 0.3682\n",
      "AUC-ROC: 0.5248\n"
     ]
    }
   ],
   "source": [
    "for name, model in models.items():\n",
    "    # cross_val_predict for k-fold cross-validation predictions\n",
    "    y_pred = cross_val_predict(model, x_1, y_1, cv=5)\n",
    "    \n",
    "    # Calculating the confusion matrix\n",
    "    conf_matrix = confusion_matrix(y_1, y_pred)\n",
    "    \n",
    "    # Calculating additional evaluation metrics\n",
    "    accuracy = accuracy_score(y_1, y_pred)\n",
    "    precision = precision_score(y_1, y_pred)\n",
    "    roc_auc = roc_auc_score(y_1, y_pred)  # Assuming y_1 is binary (0 or 1)\n",
    "    \n",
    "    # Displaying the evaluation metrics\n",
    "    print(f\"\\n{model.__class__.__name__} Metrics:\")\n",
    "    print(f\"Confusion Matrix:\\n{conf_matrix}\")\n",
    "    print(f\"Accuracy: {accuracy:.4f}\")\n",
    "    print(f\"Precision: {precision:.4f}\")\n",
    "    print(f\"AUC-ROC: {roc_auc:.4f}\")\n"
   ]
  },
  {
   "cell_type": "code",
   "execution_count": 126,
   "id": "8fcdff73",
   "metadata": {},
   "outputs": [],
   "source": [
    "#x-2 train\n",
    "x_2=merged_accounts[['Acct_type_encoded','Activate_chat_bot_encoded','Number_of_link_clicks_log']]"
   ]
  },
  {
   "cell_type": "code",
   "execution_count": 127,
   "id": "77b1d5c0",
   "metadata": {},
   "outputs": [
    {
     "name": "stdout",
     "output_type": "stream",
     "text": [
      "\n",
      "LogisticRegression Metrics:\n",
      "Confusion Matrix:\n",
      "[[4862  608]\n",
      " [1180 1350]]\n",
      "Accuracy: 0.7765\n",
      "Precision: 0.6895\n",
      "AUC-ROC: 0.7112\n",
      "\n",
      "DecisionTreeClassifier Metrics:\n",
      "Confusion Matrix:\n",
      "[[4245 1225]\n",
      " [1368 1162]]\n",
      "Accuracy: 0.6759\n",
      "Precision: 0.4868\n",
      "AUC-ROC: 0.6177\n",
      "\n",
      "RandomForestClassifier Metrics:\n",
      "Confusion Matrix:\n",
      "[[4225 1245]\n",
      " [1346 1184]]\n",
      "Accuracy: 0.6761\n",
      "Precision: 0.4874\n",
      "AUC-ROC: 0.6202\n",
      "\n",
      "SVC Metrics:\n",
      "Confusion Matrix:\n",
      "[[4752  718]\n",
      " [1160 1370]]\n",
      "Accuracy: 0.7652\n",
      "Precision: 0.6561\n",
      "AUC-ROC: 0.7051\n",
      "\n",
      "KNeighborsClassifier Metrics:\n",
      "Confusion Matrix:\n",
      "[[4734  736]\n",
      " [1320 1210]]\n",
      "Accuracy: 0.7430\n",
      "Precision: 0.6218\n",
      "AUC-ROC: 0.6719\n"
     ]
    }
   ],
   "source": [
    "for name, model in models.items():\n",
    "    # Use cross_val_predict for k-fold cross-validation predictions\n",
    "    y_pred = cross_val_predict(model, x_2, y_1, cv=5)\n",
    "    \n",
    "    # Calculate the confusion matrix\n",
    "    conf_matrix = confusion_matrix(y_1, y_pred)\n",
    "    \n",
    "    # Calculate additional evaluation metrics\n",
    "    accuracy = accuracy_score(y_1, y_pred)\n",
    "    precision = precision_score(y_1, y_pred)\n",
    "    roc_auc = roc_auc_score(y_1, y_pred)  # Assuming y_1 is binary (0 or 1)\n",
    "    \n",
    "    # Display the evaluation metrics\n",
    "    print(f\"\\n{model.__class__.__name__} Metrics:\")\n",
    "    print(f\"Confusion Matrix:\\n{conf_matrix}\")\n",
    "    print(f\"Accuracy: {accuracy:.4f}\")\n",
    "    print(f\"Precision: {precision:.4f}\")\n",
    "    print(f\"AUC-ROC: {roc_auc:.4f}\")\n"
   ]
  },
  {
   "cell_type": "code",
   "execution_count": 128,
   "id": "90499851",
   "metadata": {},
   "outputs": [],
   "source": [
    "#dumping the model \n",
    "logistic_regression_model = models['Logistic Regression']\n",
    "with open('logistic_regression_model.pkl', 'wb') as model_file:\n",
    "    pickle.dump(logistic_regression_model, model_file)\n"
   ]
  },
  {
   "cell_type": "markdown",
   "id": "d40431bf",
   "metadata": {},
   "source": [
    "How is the AnswerForce trial program doing?"
   ]
  },
  {
   "cell_type": "code",
   "execution_count": 129,
   "id": "e77d5740",
   "metadata": {},
   "outputs": [
    {
     "name": "stdout",
     "output_type": "stream",
     "text": [
      "Acct type   ENT   SMB\n",
      "Quarter              \n",
      "2019Q1      122   122\n",
      "2019Q2      468   319\n",
      "2019Q3     1067   726\n",
      "2019Q4     1652   786\n",
      "2020Q1     1963  1191\n",
      "2020Q2     2451  1381\n",
      "2020Q3     2582  1618\n",
      "2020Q4     3236  1966\n",
      "2021Q1     2474  1114\n",
      "2021Q2       11     5\n"
     ]
    }
   ],
   "source": [
    "# Convert 'Date time' column to datetime type\n",
    "m_s['Date time'] = pd.to_datetime(m_s['Date time'])\n",
    "\n",
    "# Extract quarter information\n",
    "m_s['Quarter'] = m_s['Date time'].dt.to_period('Q')\n",
    "\n",
    "# Create a pivot table\n",
    "pivot_table = m_s.groupby(['Quarter', 'Acct type'])['Converted to paid customer'].sum().unstack(fill_value=0)\n",
    "\n",
    "# Display the pivot table\n",
    "print(pivot_table)"
   ]
  },
  {
   "cell_type": "code",
   "execution_count": 130,
   "id": "fc964b5f",
   "metadata": {},
   "outputs": [
    {
     "data": {
      "text/plain": [
       "Date time\n",
       "2019-03-31      644328\n",
       "2019-06-30     2513052\n",
       "2019-09-30     4850920\n",
       "2019-12-31     6335483\n",
       "2020-03-31     8320530\n",
       "2020-06-30     9654528\n",
       "2020-09-30    12075982\n",
       "2020-12-31    14467070\n",
       "2021-03-31     9482051\n",
       "2021-06-30       47206\n",
       "Freq: Q-DEC, Name: Number of link clicks, dtype: int64"
      ]
     },
     "execution_count": 130,
     "metadata": {},
     "output_type": "execute_result"
    }
   ],
   "source": [
    "# account_usage\n",
    "\n",
    "quarterly_sum = account_usage['Number of link clicks'].resample('Q').sum()\n",
    "quarterly_sum\n"
   ]
  },
  {
   "cell_type": "code",
   "execution_count": 131,
   "id": "7fa30674",
   "metadata": {},
   "outputs": [
    {
     "name": "stdout",
     "output_type": "stream",
     "text": [
      "Date time\n",
      "2019-03-31     150\n",
      "2019-06-30     488\n",
      "2019-09-30     884\n",
      "2019-12-31    1297\n",
      "2020-03-31    1686\n",
      "2020-06-30    1960\n",
      "2020-09-30    2358\n",
      "2020-12-31    2869\n",
      "2021-03-31    1743\n",
      "2021-06-30      62\n",
      "Freq: Q-DEC, Name: Acct id, dtype: int64\n"
     ]
    }
   ],
   "source": [
    "#to see the customers converting to paid customers\n",
    "m_s['Date time'] = pd.to_datetime(m_s['Date time'])\n",
    "m_s.set_index('Date time', inplace=True)\n",
    "m_s.sort_values('Date time', inplace=True)\n",
    "\n",
    "# Calculating the cumulative sum for each 'Acct id'\n",
    "m_s['Cumulative Converted'] = m_s.groupby('Acct id')['Converted to paid customer'].cumsum()\n",
    "\n",
    "quarterly_data = m_s.resample('Q')['Acct id'].nunique()\n",
    "print(quarterly_data)\n"
   ]
  },
  {
   "cell_type": "markdown",
   "id": "3a3adbeb",
   "metadata": {},
   "source": [
    "Is there anything they can do to improve the AnswerForce trial program? \n",
    "1.Ways to increase the Conversion rate in SMB \n",
    "2.Promotional offers for second-time subscription \n",
    "3.User Feedback\n"
   ]
  },
  {
   "cell_type": "markdown",
   "id": "cceb5211",
   "metadata": {},
   "source": [
    "Which customers are most likely to convert to paid customers? How do we identify the potential customers who are most likely to convert? \n",
    "1.ENT Businesses will be more likely to convert to paid customers\n",
    "2.Businesses activated Chat Bot likely to convert to paid customers\n",
    "3.Logistic Regression \n"
   ]
  }
 ],
 "metadata": {
  "kernelspec": {
   "display_name": "Python 3 (ipykernel)",
   "language": "python",
   "name": "python3"
  },
  "language_info": {
   "codemirror_mode": {
    "name": "ipython",
    "version": 3
   },
   "file_extension": ".py",
   "mimetype": "text/x-python",
   "name": "python",
   "nbconvert_exporter": "python",
   "pygments_lexer": "ipython3",
   "version": "3.9.12"
  }
 },
 "nbformat": 4,
 "nbformat_minor": 5
}
